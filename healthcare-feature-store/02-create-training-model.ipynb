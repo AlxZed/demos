{
 "cells": [
  {
   "cell_type": "markdown",
   "metadata": {},
   "source": [
    "# Part 2: Training  \n",
    "In this part we will show how using MLRun's **Feature Store** we can easily define a **Feature Vector** and create the dataset we need to run our training process.  \n",
    "\n",
    "We will see how to:\n",
    "- Combine multiple data sources to a single Feature Vector\n",
    "- Create training dataset\n",
    "- Create a model using an MLRun Hub function\n",
    "\n",
    "<img src=\"../docs/_static/images/feature_store_demo_diagram.png\" width=\"600px\" />"
   ]
  },
  {
   "cell_type": "markdown",
   "metadata": {},
   "source": [
    "## Environment Setup\n",
    "\n",
    "Since our work is done in a this project scope, we will first want to define the project itself for all our MLRun work in this notebook."
   ]
  },
  {
   "cell_type": "markdown",
   "metadata": {},
   "source": [
    "This demo requires access to the Iguazio multi-model data layer (V3IO). Set the environment variables in `env.txt`.\n",
    "> **Note**: When running this demo from the Iguazio Data Science Platform, the variables are already configured and therefore you do not need\n",
    "> to edit these variables."
   ]
  },
  {
   "cell_type": "code",
   "execution_count": 1,
   "metadata": {},
   "outputs": [
    {
     "data": {
      "text/plain": [
       "True"
      ]
     },
     "execution_count": 1,
     "metadata": {},
     "output_type": "execute_result"
    }
   ],
   "source": [
    "from dotenv import load_dotenv\n",
    "\n",
    "load_dotenv('env.txt')"
   ]
  },
  {
   "cell_type": "code",
   "execution_count": 2,
   "metadata": {},
   "outputs": [],
   "source": [
    "import mlrun\n",
    "from os import getenv\n",
    "\n",
    "v3io_home_url = getenv('V3IO_HOME_URL', f\"v3io://users/{getenv('V3IO_USERNAME')}\")\n",
    "\n",
    "project, _ = mlrun.set_environment(project='fsdemo', user_project=True)\n",
    "# location of the output data files\n",
    "data_path = f\"{v3io_home_url}/demos/feature-store/data/\""
   ]
  },
  {
   "cell_type": "markdown",
   "metadata": {},
   "source": [
    "## Create Feature Vector  \n",
    "In this section we will create our Feature Vector.  \n",
    "The Feature vector will have a `name` so we can reference to it later via the UI or our serving function, and a list of `features` from the available FeatureSets.  We can add a feature from a feature set by adding `<FeatureSet>.<Feature>` to the list, or add `<FeatureSet>.*` to add all the FeatureSet's available features.  \n",
    "The `Label` is added explicitely from the available features so we will not look for it when serving in real-time (since it won't be available).\n",
    "\n",
    "By default, the first FeatureSet in the feature list will act as the spine. meaning that all the other features will be joined to it.  \n",
    "So for example, in this instance we use the early_sense sensor data as our spine, so for each early_sense event we will create produce a row in the resulted Feature Vector."
   ]
  },
  {
   "cell_type": "code",
   "execution_count": 3,
   "metadata": {},
   "outputs": [],
   "source": [
    "# Import MLRun's Feature Store\n",
    "import mlrun.feature_store as fs\n",
    "\n",
    "# Define the featuer vector's name for future reference\n",
    "feature_vector_name = 'patient-deterioration'\n",
    "\n",
    "# Define the list of features in the feature vector\n",
    "features = ['early_sense.hr',\n",
    "            'early_sense.rr',\n",
    "            'early_sense.hr_avg_1h',\n",
    "            'early_sense.hr_avg_1d',\n",
    "            'early_sense.rr_avg_1h',\n",
    "            'early_sense.rr_avg_1d',\n",
    "            'early_sense.spo2_avg_1h',\n",
    "            'early_sense.spo2_avg_1d',\n",
    "            'early_sense.movements_avg_1h',\n",
    "            'early_sense.movements_avg_1d',\n",
    "            'early_sense.turn_count_avg_1h',\n",
    "            'early_sense.turn_count_avg_1d',\n",
    "            'early_sense.in_bed_avg_1h',\n",
    "            'early_sense.in_bed_avg_1d',\n",
    "            'early_sense.room',\n",
    "            'early_sense.spo2',\n",
    "            'early_sense.movements',\n",
    "            'early_sense.turn_count',\n",
    "            'early_sense.is_in_bed',\n",
    "            'early_sense.bed',\n",
    "            'measurements.agg_sp_0_0_avg_1h',\n",
    "            'measurements.agg_sp_0_1_avg_1h',\n",
    "            'measurements.agg_sp_0_2_avg_1h',\n",
    "            'measurements.agg_sp_1_0_avg_1h',\n",
    "            'measurements.agg_sp_1_1_avg_1h',\n",
    "            'measurements.agg_sp_1_2_avg_1h',\n",
    "            'measurements.agg_sp_2_0_avg_1h',\n",
    "            'measurements.agg_sp_2_1_avg_1h',\n",
    "            'measurements.agg_sp_2_2_avg_1h',\n",
    "            'patient_details.age',\n",
    "            'patient_details.age_mapped_toddler',\n",
    "            'patient_details.age_mapped_child',\n",
    "            'patient_details.age_mapped_adult',\n",
    "            'patient_details.age_mapped_elder',\n",
    "            ]\n",
    "\n",
    "# Define the feature vector\n",
    "fv = fs.FeatureVector(feature_vector_name, \n",
    "                      features, \n",
    "                      label_feature=\"labels.label\",\n",
    "                      description='Predict patient deterioration')\n",
    "\n",
    "# Save the feature vector in the Feature Store\n",
    "fv.save()"
   ]
  },
  {
   "cell_type": "markdown",
   "metadata": {},
   "source": [
    "## Produce training dataset as parquet"
   ]
  },
  {
   "cell_type": "code",
   "execution_count": 4,
   "metadata": {},
   "outputs": [
    {
     "name": "stdout",
     "output_type": "stream",
     "text": [
      "> 2021-05-23 19:12:38,867 [info] wrote target: {'name': 'parquet', 'kind': 'parquet', 'path': 'v3io:///projects/fsdemo-admin/FeatureStore/patient-deterioration/parquet/vectors/patient-deterioration-latest.parquet', 'status': 'ready', 'updated': '2021-05-23T19:12:38.867021+00:00', 'size': 4293934}\n"
     ]
    },
    {
     "data": {
      "text/html": [
       "<div>\n",
       "<style scoped>\n",
       "    .dataframe tbody tr th:only-of-type {\n",
       "        vertical-align: middle;\n",
       "    }\n",
       "\n",
       "    .dataframe tbody tr th {\n",
       "        vertical-align: top;\n",
       "    }\n",
       "\n",
       "    .dataframe thead th {\n",
       "        text-align: right;\n",
       "    }\n",
       "</style>\n",
       "<table border=\"1\" class=\"dataframe\">\n",
       "  <thead>\n",
       "    <tr style=\"text-align: right;\">\n",
       "      <th></th>\n",
       "      <th>hr</th>\n",
       "      <th>rr</th>\n",
       "      <th>hr_avg_1h</th>\n",
       "      <th>hr_avg_1d</th>\n",
       "      <th>rr_avg_1h</th>\n",
       "      <th>rr_avg_1d</th>\n",
       "      <th>spo2_avg_1h</th>\n",
       "      <th>spo2_avg_1d</th>\n",
       "      <th>movements_avg_1h</th>\n",
       "      <th>movements_avg_1d</th>\n",
       "      <th>...</th>\n",
       "      <th>agg_sp_1_2_avg_1h</th>\n",
       "      <th>agg_sp_2_0_avg_1h</th>\n",
       "      <th>agg_sp_2_1_avg_1h</th>\n",
       "      <th>agg_sp_2_2_avg_1h</th>\n",
       "      <th>age</th>\n",
       "      <th>age_mapped_toddler</th>\n",
       "      <th>age_mapped_child</th>\n",
       "      <th>age_mapped_adult</th>\n",
       "      <th>age_mapped_elder</th>\n",
       "      <th>label</th>\n",
       "    </tr>\n",
       "  </thead>\n",
       "  <tbody>\n",
       "    <tr>\n",
       "      <th>0</th>\n",
       "      <td>220.0</td>\n",
       "      <td>25</td>\n",
       "      <td>220.0</td>\n",
       "      <td>220.0</td>\n",
       "      <td>25.0</td>\n",
       "      <td>25.0</td>\n",
       "      <td>99.0</td>\n",
       "      <td>99.0</td>\n",
       "      <td>0.000000</td>\n",
       "      <td>0.000000</td>\n",
       "      <td>...</td>\n",
       "      <td>NaN</td>\n",
       "      <td>NaN</td>\n",
       "      <td>NaN</td>\n",
       "      <td>NaN</td>\n",
       "      <td>65</td>\n",
       "      <td>0</td>\n",
       "      <td>0</td>\n",
       "      <td>0</td>\n",
       "      <td>1</td>\n",
       "      <td>False</td>\n",
       "    </tr>\n",
       "    <tr>\n",
       "      <th>1</th>\n",
       "      <td>220.0</td>\n",
       "      <td>25</td>\n",
       "      <td>220.0</td>\n",
       "      <td>220.0</td>\n",
       "      <td>25.0</td>\n",
       "      <td>25.0</td>\n",
       "      <td>99.0</td>\n",
       "      <td>99.0</td>\n",
       "      <td>4.698252</td>\n",
       "      <td>4.698252</td>\n",
       "      <td>...</td>\n",
       "      <td>NaN</td>\n",
       "      <td>NaN</td>\n",
       "      <td>NaN</td>\n",
       "      <td>NaN</td>\n",
       "      <td>72</td>\n",
       "      <td>0</td>\n",
       "      <td>0</td>\n",
       "      <td>0</td>\n",
       "      <td>1</td>\n",
       "      <td>False</td>\n",
       "    </tr>\n",
       "    <tr>\n",
       "      <th>2</th>\n",
       "      <td>220.0</td>\n",
       "      <td>25</td>\n",
       "      <td>220.0</td>\n",
       "      <td>220.0</td>\n",
       "      <td>25.0</td>\n",
       "      <td>25.0</td>\n",
       "      <td>99.0</td>\n",
       "      <td>99.0</td>\n",
       "      <td>6.024110</td>\n",
       "      <td>6.024110</td>\n",
       "      <td>...</td>\n",
       "      <td>NaN</td>\n",
       "      <td>NaN</td>\n",
       "      <td>NaN</td>\n",
       "      <td>NaN</td>\n",
       "      <td>49</td>\n",
       "      <td>0</td>\n",
       "      <td>0</td>\n",
       "      <td>1</td>\n",
       "      <td>0</td>\n",
       "      <td>False</td>\n",
       "    </tr>\n",
       "    <tr>\n",
       "      <th>3</th>\n",
       "      <td>220.0</td>\n",
       "      <td>25</td>\n",
       "      <td>220.0</td>\n",
       "      <td>220.0</td>\n",
       "      <td>25.0</td>\n",
       "      <td>25.0</td>\n",
       "      <td>99.0</td>\n",
       "      <td>99.0</td>\n",
       "      <td>6.289756</td>\n",
       "      <td>6.289756</td>\n",
       "      <td>...</td>\n",
       "      <td>NaN</td>\n",
       "      <td>NaN</td>\n",
       "      <td>NaN</td>\n",
       "      <td>NaN</td>\n",
       "      <td>37</td>\n",
       "      <td>0</td>\n",
       "      <td>0</td>\n",
       "      <td>1</td>\n",
       "      <td>0</td>\n",
       "      <td>False</td>\n",
       "    </tr>\n",
       "    <tr>\n",
       "      <th>4</th>\n",
       "      <td>220.0</td>\n",
       "      <td>25</td>\n",
       "      <td>220.0</td>\n",
       "      <td>220.0</td>\n",
       "      <td>25.0</td>\n",
       "      <td>25.0</td>\n",
       "      <td>99.0</td>\n",
       "      <td>99.0</td>\n",
       "      <td>0.000000</td>\n",
       "      <td>0.000000</td>\n",
       "      <td>...</td>\n",
       "      <td>NaN</td>\n",
       "      <td>NaN</td>\n",
       "      <td>NaN</td>\n",
       "      <td>NaN</td>\n",
       "      <td>82</td>\n",
       "      <td>0</td>\n",
       "      <td>0</td>\n",
       "      <td>0</td>\n",
       "      <td>1</td>\n",
       "      <td>False</td>\n",
       "    </tr>\n",
       "  </tbody>\n",
       "</table>\n",
       "<p>5 rows × 35 columns</p>\n",
       "</div>"
      ],
      "text/plain": [
       "      hr  rr  hr_avg_1h  hr_avg_1d  rr_avg_1h  rr_avg_1d  spo2_avg_1h  \\\n",
       "0  220.0  25      220.0      220.0       25.0       25.0         99.0   \n",
       "1  220.0  25      220.0      220.0       25.0       25.0         99.0   \n",
       "2  220.0  25      220.0      220.0       25.0       25.0         99.0   \n",
       "3  220.0  25      220.0      220.0       25.0       25.0         99.0   \n",
       "4  220.0  25      220.0      220.0       25.0       25.0         99.0   \n",
       "\n",
       "   spo2_avg_1d  movements_avg_1h  movements_avg_1d  ...  agg_sp_1_2_avg_1h  \\\n",
       "0         99.0          0.000000          0.000000  ...                NaN   \n",
       "1         99.0          4.698252          4.698252  ...                NaN   \n",
       "2         99.0          6.024110          6.024110  ...                NaN   \n",
       "3         99.0          6.289756          6.289756  ...                NaN   \n",
       "4         99.0          0.000000          0.000000  ...                NaN   \n",
       "\n",
       "   agg_sp_2_0_avg_1h  agg_sp_2_1_avg_1h  agg_sp_2_2_avg_1h  age  \\\n",
       "0                NaN                NaN                NaN   65   \n",
       "1                NaN                NaN                NaN   72   \n",
       "2                NaN                NaN                NaN   49   \n",
       "3                NaN                NaN                NaN   37   \n",
       "4                NaN                NaN                NaN   82   \n",
       "\n",
       "   age_mapped_toddler  age_mapped_child  age_mapped_adult  age_mapped_elder  \\\n",
       "0                   0                 0                 0                 1   \n",
       "1                   0                 0                 0                 1   \n",
       "2                   0                 0                 1                 0   \n",
       "3                   0                 0                 1                 0   \n",
       "4                   0                 0                 0                 1   \n",
       "\n",
       "   label  \n",
       "0  False  \n",
       "1  False  \n",
       "2  False  \n",
       "3  False  \n",
       "4  False  \n",
       "\n",
       "[5 rows x 35 columns]"
      ]
     },
     "execution_count": 4,
     "metadata": {},
     "output_type": "execute_result"
    }
   ],
   "source": [
    "# Import the Parquet Target so we can directly save our dataset as a file\n",
    "from mlrun.datastore.targets import ParquetTarget\n",
    "\n",
    "# Get offline feature vector\n",
    "# will return a pandas dataframe and save the dataset to parquet so a \n",
    "# training job could train on it\n",
    "dataset = fs.get_offline_features(feature_vector_name, target=ParquetTarget())\n",
    "\n",
    "# View dataset example\n",
    "df = dataset.to_dataframe()\n",
    "df.head()"
   ]
  },
  {
   "cell_type": "markdown",
   "metadata": {},
   "source": [
    "**View the dataset details**"
   ]
  },
  {
   "cell_type": "code",
   "execution_count": 5,
   "metadata": {},
   "outputs": [
    {
     "data": {
      "text/html": [
       "<div>\n",
       "<style scoped>\n",
       "    .dataframe tbody tr th:only-of-type {\n",
       "        vertical-align: middle;\n",
       "    }\n",
       "\n",
       "    .dataframe tbody tr th {\n",
       "        vertical-align: top;\n",
       "    }\n",
       "\n",
       "    .dataframe thead th {\n",
       "        text-align: right;\n",
       "    }\n",
       "</style>\n",
       "<table border=\"1\" class=\"dataframe\">\n",
       "  <thead>\n",
       "    <tr style=\"text-align: right;\">\n",
       "      <th></th>\n",
       "      <th>hr</th>\n",
       "      <th>rr</th>\n",
       "      <th>hr_avg_1h</th>\n",
       "      <th>hr_avg_1d</th>\n",
       "      <th>rr_avg_1h</th>\n",
       "      <th>rr_avg_1d</th>\n",
       "      <th>spo2_avg_1h</th>\n",
       "      <th>spo2_avg_1d</th>\n",
       "      <th>movements_avg_1h</th>\n",
       "      <th>movements_avg_1d</th>\n",
       "      <th>...</th>\n",
       "      <th>agg_sp_1_1_avg_1h</th>\n",
       "      <th>agg_sp_1_2_avg_1h</th>\n",
       "      <th>agg_sp_2_0_avg_1h</th>\n",
       "      <th>agg_sp_2_1_avg_1h</th>\n",
       "      <th>agg_sp_2_2_avg_1h</th>\n",
       "      <th>age</th>\n",
       "      <th>age_mapped_toddler</th>\n",
       "      <th>age_mapped_child</th>\n",
       "      <th>age_mapped_adult</th>\n",
       "      <th>age_mapped_elder</th>\n",
       "    </tr>\n",
       "  </thead>\n",
       "  <tbody>\n",
       "    <tr>\n",
       "      <th>count</th>\n",
       "      <td>54673.000000</td>\n",
       "      <td>54673.000000</td>\n",
       "      <td>54673.000000</td>\n",
       "      <td>54673.000000</td>\n",
       "      <td>54673.000000</td>\n",
       "      <td>54673.000000</td>\n",
       "      <td>54673.000000</td>\n",
       "      <td>54673.000000</td>\n",
       "      <td>54673.000000</td>\n",
       "      <td>54673.000000</td>\n",
       "      <td>...</td>\n",
       "      <td>952.000000</td>\n",
       "      <td>892.000000</td>\n",
       "      <td>832.000000</td>\n",
       "      <td>652.000000</td>\n",
       "      <td>592.000000</td>\n",
       "      <td>54673.000000</td>\n",
       "      <td>54673.0</td>\n",
       "      <td>54673.000000</td>\n",
       "      <td>54673.000000</td>\n",
       "      <td>54673.000000</td>\n",
       "    </tr>\n",
       "    <tr>\n",
       "      <th>mean</th>\n",
       "      <td>216.903961</td>\n",
       "      <td>24.097178</td>\n",
       "      <td>216.891315</td>\n",
       "      <td>216.865359</td>\n",
       "      <td>24.078747</td>\n",
       "      <td>24.073085</td>\n",
       "      <td>98.421152</td>\n",
       "      <td>98.419914</td>\n",
       "      <td>3.547600</td>\n",
       "      <td>3.552515</td>\n",
       "      <td>...</td>\n",
       "      <td>57.537323</td>\n",
       "      <td>56.416209</td>\n",
       "      <td>42.986021</td>\n",
       "      <td>57.919207</td>\n",
       "      <td>59.094897</td>\n",
       "      <td>55.850054</td>\n",
       "      <td>0.0</td>\n",
       "      <td>0.100013</td>\n",
       "      <td>0.399978</td>\n",
       "      <td>0.500009</td>\n",
       "    </tr>\n",
       "    <tr>\n",
       "      <th>std</th>\n",
       "      <td>25.853312</td>\n",
       "      <td>4.152309</td>\n",
       "      <td>10.525048</td>\n",
       "      <td>1.848448</td>\n",
       "      <td>2.551530</td>\n",
       "      <td>0.541255</td>\n",
       "      <td>1.641128</td>\n",
       "      <td>0.343218</td>\n",
       "      <td>1.015289</td>\n",
       "      <td>0.184123</td>\n",
       "      <td>...</td>\n",
       "      <td>24.447086</td>\n",
       "      <td>19.448366</td>\n",
       "      <td>24.678576</td>\n",
       "      <td>26.066204</td>\n",
       "      <td>21.282578</td>\n",
       "      <td>24.916961</td>\n",
       "      <td>0.0</td>\n",
       "      <td>0.300020</td>\n",
       "      <td>0.489898</td>\n",
       "      <td>0.500005</td>\n",
       "    </tr>\n",
       "    <tr>\n",
       "      <th>min</th>\n",
       "      <td>0.000000</td>\n",
       "      <td>5.000000</td>\n",
       "      <td>0.029248</td>\n",
       "      <td>169.405598</td>\n",
       "      <td>5.000000</td>\n",
       "      <td>5.000000</td>\n",
       "      <td>85.000000</td>\n",
       "      <td>85.000000</td>\n",
       "      <td>0.000000</td>\n",
       "      <td>0.000000</td>\n",
       "      <td>...</td>\n",
       "      <td>8.324037</td>\n",
       "      <td>0.867861</td>\n",
       "      <td>0.569489</td>\n",
       "      <td>1.814270</td>\n",
       "      <td>10.452760</td>\n",
       "      <td>16.000000</td>\n",
       "      <td>0.0</td>\n",
       "      <td>0.000000</td>\n",
       "      <td>0.000000</td>\n",
       "      <td>0.000000</td>\n",
       "    </tr>\n",
       "    <tr>\n",
       "      <th>25%</th>\n",
       "      <td>220.000000</td>\n",
       "      <td>25.000000</td>\n",
       "      <td>220.000000</td>\n",
       "      <td>215.752757</td>\n",
       "      <td>25.000000</td>\n",
       "      <td>23.765255</td>\n",
       "      <td>99.000000</td>\n",
       "      <td>98.227129</td>\n",
       "      <td>3.062272</td>\n",
       "      <td>3.479485</td>\n",
       "      <td>...</td>\n",
       "      <td>48.249901</td>\n",
       "      <td>36.286558</td>\n",
       "      <td>25.162864</td>\n",
       "      <td>34.575365</td>\n",
       "      <td>44.436215</td>\n",
       "      <td>37.000000</td>\n",
       "      <td>0.0</td>\n",
       "      <td>0.000000</td>\n",
       "      <td>0.000000</td>\n",
       "      <td>0.000000</td>\n",
       "    </tr>\n",
       "    <tr>\n",
       "      <th>50%</th>\n",
       "      <td>220.000000</td>\n",
       "      <td>25.000000</td>\n",
       "      <td>220.000000</td>\n",
       "      <td>217.005236</td>\n",
       "      <td>25.000000</td>\n",
       "      <td>24.092971</td>\n",
       "      <td>99.000000</td>\n",
       "      <td>98.432739</td>\n",
       "      <td>3.540061</td>\n",
       "      <td>3.545805</td>\n",
       "      <td>...</td>\n",
       "      <td>58.703348</td>\n",
       "      <td>54.539630</td>\n",
       "      <td>36.912439</td>\n",
       "      <td>77.146651</td>\n",
       "      <td>58.689853</td>\n",
       "      <td>65.000000</td>\n",
       "      <td>0.0</td>\n",
       "      <td>0.000000</td>\n",
       "      <td>0.000000</td>\n",
       "      <td>1.000000</td>\n",
       "    </tr>\n",
       "    <tr>\n",
       "      <th>75%</th>\n",
       "      <td>220.000000</td>\n",
       "      <td>25.000000</td>\n",
       "      <td>220.000000</td>\n",
       "      <td>218.002176</td>\n",
       "      <td>25.000000</td>\n",
       "      <td>24.429154</td>\n",
       "      <td>99.000000</td>\n",
       "      <td>98.642743</td>\n",
       "      <td>4.021039</td>\n",
       "      <td>3.619933</td>\n",
       "      <td>...</td>\n",
       "      <td>72.616736</td>\n",
       "      <td>69.698038</td>\n",
       "      <td>57.173617</td>\n",
       "      <td>78.503767</td>\n",
       "      <td>79.920173</td>\n",
       "      <td>81.000000</td>\n",
       "      <td>0.0</td>\n",
       "      <td>0.000000</td>\n",
       "      <td>1.000000</td>\n",
       "      <td>1.000000</td>\n",
       "    </tr>\n",
       "    <tr>\n",
       "      <th>max</th>\n",
       "      <td>220.000000</td>\n",
       "      <td>25.000000</td>\n",
       "      <td>220.000000</td>\n",
       "      <td>220.000000</td>\n",
       "      <td>25.000000</td>\n",
       "      <td>25.000000</td>\n",
       "      <td>99.000000</td>\n",
       "      <td>99.000000</td>\n",
       "      <td>10.000000</td>\n",
       "      <td>10.000000</td>\n",
       "      <td>...</td>\n",
       "      <td>99.367478</td>\n",
       "      <td>88.686573</td>\n",
       "      <td>90.403269</td>\n",
       "      <td>88.127015</td>\n",
       "      <td>88.878720</td>\n",
       "      <td>89.000000</td>\n",
       "      <td>0.0</td>\n",
       "      <td>1.000000</td>\n",
       "      <td>1.000000</td>\n",
       "      <td>1.000000</td>\n",
       "    </tr>\n",
       "  </tbody>\n",
       "</table>\n",
       "<p>8 rows × 34 columns</p>\n",
       "</div>"
      ],
      "text/plain": [
       "                 hr            rr     hr_avg_1h     hr_avg_1d     rr_avg_1h  \\\n",
       "count  54673.000000  54673.000000  54673.000000  54673.000000  54673.000000   \n",
       "mean     216.903961     24.097178    216.891315    216.865359     24.078747   \n",
       "std       25.853312      4.152309     10.525048      1.848448      2.551530   \n",
       "min        0.000000      5.000000      0.029248    169.405598      5.000000   \n",
       "25%      220.000000     25.000000    220.000000    215.752757     25.000000   \n",
       "50%      220.000000     25.000000    220.000000    217.005236     25.000000   \n",
       "75%      220.000000     25.000000    220.000000    218.002176     25.000000   \n",
       "max      220.000000     25.000000    220.000000    220.000000     25.000000   \n",
       "\n",
       "          rr_avg_1d   spo2_avg_1h   spo2_avg_1d  movements_avg_1h  \\\n",
       "count  54673.000000  54673.000000  54673.000000      54673.000000   \n",
       "mean      24.073085     98.421152     98.419914          3.547600   \n",
       "std        0.541255      1.641128      0.343218          1.015289   \n",
       "min        5.000000     85.000000     85.000000          0.000000   \n",
       "25%       23.765255     99.000000     98.227129          3.062272   \n",
       "50%       24.092971     99.000000     98.432739          3.540061   \n",
       "75%       24.429154     99.000000     98.642743          4.021039   \n",
       "max       25.000000     99.000000     99.000000         10.000000   \n",
       "\n",
       "       movements_avg_1d  ...  agg_sp_1_1_avg_1h  agg_sp_1_2_avg_1h  \\\n",
       "count      54673.000000  ...         952.000000         892.000000   \n",
       "mean           3.552515  ...          57.537323          56.416209   \n",
       "std            0.184123  ...          24.447086          19.448366   \n",
       "min            0.000000  ...           8.324037           0.867861   \n",
       "25%            3.479485  ...          48.249901          36.286558   \n",
       "50%            3.545805  ...          58.703348          54.539630   \n",
       "75%            3.619933  ...          72.616736          69.698038   \n",
       "max           10.000000  ...          99.367478          88.686573   \n",
       "\n",
       "       agg_sp_2_0_avg_1h  agg_sp_2_1_avg_1h  agg_sp_2_2_avg_1h           age  \\\n",
       "count         832.000000         652.000000         592.000000  54673.000000   \n",
       "mean           42.986021          57.919207          59.094897     55.850054   \n",
       "std            24.678576          26.066204          21.282578     24.916961   \n",
       "min             0.569489           1.814270          10.452760     16.000000   \n",
       "25%            25.162864          34.575365          44.436215     37.000000   \n",
       "50%            36.912439          77.146651          58.689853     65.000000   \n",
       "75%            57.173617          78.503767          79.920173     81.000000   \n",
       "max            90.403269          88.127015          88.878720     89.000000   \n",
       "\n",
       "       age_mapped_toddler  age_mapped_child  age_mapped_adult  \\\n",
       "count             54673.0      54673.000000      54673.000000   \n",
       "mean                  0.0          0.100013          0.399978   \n",
       "std                   0.0          0.300020          0.489898   \n",
       "min                   0.0          0.000000          0.000000   \n",
       "25%                   0.0          0.000000          0.000000   \n",
       "50%                   0.0          0.000000          0.000000   \n",
       "75%                   0.0          0.000000          1.000000   \n",
       "max                   0.0          1.000000          1.000000   \n",
       "\n",
       "       age_mapped_elder  \n",
       "count      54673.000000  \n",
       "mean           0.500009  \n",
       "std            0.500005  \n",
       "min            0.000000  \n",
       "25%            0.000000  \n",
       "50%            1.000000  \n",
       "75%            1.000000  \n",
       "max            1.000000  \n",
       "\n",
       "[8 rows x 34 columns]"
      ]
     },
     "execution_count": 5,
     "metadata": {},
     "output_type": "execute_result"
    }
   ],
   "source": [
    "df.describe()"
   ]
  },
  {
   "cell_type": "markdown",
   "metadata": {},
   "source": [
    "**Feature Vector URI for future reference**"
   ]
  },
  {
   "cell_type": "code",
   "execution_count": 6,
   "metadata": {},
   "outputs": [
    {
     "data": {
      "text/plain": [
       "'store://feature-vectors/fsdemo-admin/patient-deterioration'"
      ]
     },
     "execution_count": 6,
     "metadata": {},
     "output_type": "execute_result"
    }
   ],
   "source": [
    "fv.uri"
   ]
  },
  {
   "cell_type": "markdown",
   "metadata": {},
   "source": [
    "## Upload dataset to blob store\n",
    "\n",
    "You can optionally store the data to any file/object storage"
   ]
  },
  {
   "cell_type": "code",
   "execution_count": 7,
   "metadata": {},
   "outputs": [],
   "source": [
    "dataset.to_parquet(data_path + 'patients.parquet')"
   ]
  },
  {
   "cell_type": "markdown",
   "metadata": {},
   "source": [
    "## Use MLRun AutoML Training over Kubernetes  \n",
    "Here we will use MLRun to import a training function from our [functions hub](https://github.com/mlrun/functions) and run it on our cluster using our newly defined feature vector."
   ]
  },
  {
   "cell_type": "markdown",
   "metadata": {},
   "source": [
    "### Create MLRun Serverless Training Function (from code)"
   ]
  },
  {
   "cell_type": "code",
   "execution_count": 8,
   "metadata": {},
   "outputs": [],
   "source": [
    "from mlrun.platforms import auto_mount\n",
    "\n",
    "# Import the SKLearn based training function from our functions hub\n",
    "fn = mlrun.import_function('hub://sklearn-classifier').apply(auto_mount())"
   ]
  },
  {
   "cell_type": "markdown",
   "metadata": {},
   "source": [
    "### Run AutoML Training Function over the cluster  \n",
    "We will use MLRun's HyperParameters mechanism to train 3 different models on the dataset and test them by their accuracy."
   ]
  },
  {
   "cell_type": "code",
   "execution_count": 9,
   "metadata": {
    "tags": [
     "hide-output"
    ]
   },
   "outputs": [
    {
     "name": "stdout",
     "output_type": "stream",
     "text": [
      "> 2021-05-23 19:12:56,504 [info] starting run training uid=401151f69d754124bd3699e2e7592890 DB=http://mlrun-api:8080\n"
     ]
    },
    {
     "name": "stderr",
     "output_type": "stream",
     "text": [
      "Converting input from bool to <class 'numpy.uint8'> for compatibility.\n",
      "Precision is ill-defined and being set to 0.0 due to no predicted samples. Use `zero_division` parameter to control this behavior.\n",
      "Converting input from bool to <class 'numpy.uint8'> for compatibility.\n",
      "Converting input from bool to <class 'numpy.uint8'> for compatibility.\n",
      "Converting input from bool to <class 'numpy.uint8'> for compatibility.\n",
      "Converting input from bool to <class 'numpy.uint8'> for compatibility.\n"
     ]
    },
    {
     "name": "stdout",
     "output_type": "stream",
     "text": [
      "> 2021-05-23 19:14:21,917 [info] best iteration=1, used criteria max.accuracy\n"
     ]
    },
    {
     "name": "stderr",
     "output_type": "stream",
     "text": [
      "Converting input from bool to <class 'numpy.uint8'> for compatibility.\n"
     ]
    },
    {
     "data": {
      "text/html": [
       "<style>\n",
       ".dictlist {\n",
       "  background-color: #4EC64B;\n",
       "  text-align: center;\n",
       "  margin: 4px;\n",
       "  border-radius: 3px; padding: 0px 3px 1px 3px; display: inline-block;}\n",
       ".artifact {\n",
       "  cursor: pointer;\n",
       "  background-color: #4EC64B;\n",
       "  text-align: left;\n",
       "  margin: 4px; border-radius: 3px; padding: 0px 3px 1px 3px; display: inline-block;\n",
       "}\n",
       "div.block.hidden {\n",
       "  display: none;\n",
       "}\n",
       ".clickable {\n",
       "  cursor: pointer;\n",
       "}\n",
       ".ellipsis {\n",
       "  display: inline-block;\n",
       "  max-width: 60px;\n",
       "  white-space: nowrap;\n",
       "  overflow: hidden;\n",
       "  text-overflow: ellipsis;\n",
       "}\n",
       ".master-wrapper {\n",
       "  display: flex;\n",
       "  flex-flow: row nowrap;\n",
       "  justify-content: flex-start;\n",
       "  align-items: stretch;\n",
       "}\n",
       ".master-tbl {\n",
       "  flex: 3\n",
       "}\n",
       ".master-wrapper > div {\n",
       "  margin: 4px;\n",
       "  padding: 10px;\n",
       "}\n",
       "iframe.fileview {\n",
       "  border: 0 none;\n",
       "  height: 100%;\n",
       "  width: 100%;\n",
       "  white-space: pre-wrap;\n",
       "}\n",
       ".pane-header-title {\n",
       "  width: 80%;\n",
       "  font-weight: 500;\n",
       "}\n",
       ".pane-header {\n",
       "  line-height: 1;\n",
       "  background-color: #4EC64B;\n",
       "  padding: 3px;\n",
       "}\n",
       ".pane-header .close {\n",
       "  font-size: 20px;\n",
       "  font-weight: 700;\n",
       "  float: right;\n",
       "  margin-top: -5px;\n",
       "}\n",
       ".master-wrapper .right-pane {\n",
       "  border: 1px inset silver;\n",
       "  width: 40%;\n",
       "  min-height: 300px;\n",
       "  flex: 3\n",
       "  min-width: 500px;\n",
       "}\n",
       ".master-wrapper * {\n",
       "  box-sizing: border-box;\n",
       "}\n",
       "</style><script>\n",
       "function copyToClipboard(fld) {\n",
       "    if (document.queryCommandSupported && document.queryCommandSupported('copy')) {\n",
       "        var textarea = document.createElement('textarea');\n",
       "        textarea.textContent = fld.innerHTML;\n",
       "        textarea.style.position = 'fixed';\n",
       "        document.body.appendChild(textarea);\n",
       "        textarea.select();\n",
       "\n",
       "        try {\n",
       "            return document.execCommand('copy'); // Security exception may be thrown by some browsers.\n",
       "        } catch (ex) {\n",
       "\n",
       "        } finally {\n",
       "            document.body.removeChild(textarea);\n",
       "        }\n",
       "    }\n",
       "}\n",
       "function expandPanel(el) {\n",
       "  const panelName = \"#\" + el.getAttribute('paneName');\n",
       "  console.log(el.title);\n",
       "\n",
       "  document.querySelector(panelName + \"-title\").innerHTML = el.title\n",
       "  iframe = document.querySelector(panelName + \"-body\");\n",
       "\n",
       "  const tblcss = `<style> body { font-family: Arial, Helvetica, sans-serif;}\n",
       "    #csv { margin-bottom: 15px; }\n",
       "    #csv table { border-collapse: collapse;}\n",
       "    #csv table td { padding: 4px 8px; border: 1px solid silver;} </style>`;\n",
       "\n",
       "  function csvToHtmlTable(str) {\n",
       "    return '<div id=\"csv\"><table><tr><td>' +  str.replace(/[\\n\\r]+$/g, '').replace(/[\\n\\r]+/g, '</td></tr><tr><td>')\n",
       "      .replace(/,/g, '</td><td>') + '</td></tr></table></div>';\n",
       "  }\n",
       "\n",
       "  function reqListener () {\n",
       "    if (el.title.endsWith(\".csv\")) {\n",
       "      iframe.setAttribute(\"srcdoc\", tblcss + csvToHtmlTable(this.responseText));\n",
       "    } else {\n",
       "      iframe.setAttribute(\"srcdoc\", this.responseText);\n",
       "    }\n",
       "    console.log(this.responseText);\n",
       "  }\n",
       "\n",
       "  const oReq = new XMLHttpRequest();\n",
       "  oReq.addEventListener(\"load\", reqListener);\n",
       "  oReq.open(\"GET\", el.title);\n",
       "  oReq.send();\n",
       "\n",
       "\n",
       "  //iframe.src = el.title;\n",
       "  const resultPane = document.querySelector(panelName + \"-pane\");\n",
       "  if (resultPane.classList.contains(\"hidden\")) {\n",
       "    resultPane.classList.remove(\"hidden\");\n",
       "  }\n",
       "}\n",
       "function closePanel(el) {\n",
       "  const panelName = \"#\" + el.getAttribute('paneName')\n",
       "  const resultPane = document.querySelector(panelName + \"-pane\");\n",
       "  if (!resultPane.classList.contains(\"hidden\")) {\n",
       "    resultPane.classList.add(\"hidden\");\n",
       "  }\n",
       "}\n",
       "\n",
       "</script>\n",
       "<div class=\"master-wrapper\">\n",
       "  <div class=\"block master-tbl\"><div>\n",
       "<style scoped>\n",
       "    .dataframe tbody tr th:only-of-type {\n",
       "        vertical-align: middle;\n",
       "    }\n",
       "\n",
       "    .dataframe tbody tr th {\n",
       "        vertical-align: top;\n",
       "    }\n",
       "\n",
       "    .dataframe thead th {\n",
       "        text-align: right;\n",
       "    }\n",
       "</style>\n",
       "<table border=\"1\" class=\"dataframe\">\n",
       "  <thead>\n",
       "    <tr style=\"text-align: right;\">\n",
       "      <th>project</th>\n",
       "      <th>uid</th>\n",
       "      <th>iter</th>\n",
       "      <th>start</th>\n",
       "      <th>state</th>\n",
       "      <th>name</th>\n",
       "      <th>labels</th>\n",
       "      <th>inputs</th>\n",
       "      <th>parameters</th>\n",
       "      <th>results</th>\n",
       "      <th>artifacts</th>\n",
       "    </tr>\n",
       "  </thead>\n",
       "  <tbody>\n",
       "    <tr>\n",
       "      <td>fsdemo-admin</td>\n",
       "      <td><div title=\"401151f69d754124bd3699e2e7592890\"><a href=\"http://localhost:30060/projects/fsdemo-admin/jobs/monitor/401151f69d754124bd3699e2e7592890/overview\" target=\"_blank\" >...e7592890</a></div></td>\n",
       "      <td>0</td>\n",
       "      <td>May 23 19:12:56</td>\n",
       "      <td>completed</td>\n",
       "      <td>training</td>\n",
       "      <td><div class=\"dictlist\">v3io_user=admin</div><div class=\"dictlist\">kind=</div><div class=\"dictlist\">owner=admin</div></td>\n",
       "      <td><div title=\"store://feature-vectors/fsdemo-admin/patient-deterioration\">dataset</div></td>\n",
       "      <td><div class=\"dictlist\">label_column=label</div></td>\n",
       "      <td><div class=\"dictlist\">best_iteration=1</div><div class=\"dictlist\">accuracy=0.9919354838709677</div><div class=\"dictlist\">test-error=0.008064516129032258</div><div class=\"dictlist\">rocauc=1.0</div><div class=\"dictlist\">brier_score=0.0029604838709677422</div><div class=\"dictlist\">f1-score=0.0</div><div class=\"dictlist\">precision_score=0.0</div><div class=\"dictlist\">recall_score=0.0</div></td>\n",
       "      <td><div title=\"/home/jovyan/data/data/1/test_set.parquet\">test_set</div><div class=\"artifact\" onclick=\"expandPanel(this)\" paneName=\"resultfae8dc7a\" title=\"/files/data/model/plots/1/probability-calibration.html\">probability-calibration</div><div class=\"artifact\" onclick=\"expandPanel(this)\" paneName=\"resultfae8dc7a\" title=\"/files/data/model/plots/1/confusion-matrix.html\">confusion-matrix</div><div class=\"artifact\" onclick=\"expandPanel(this)\" paneName=\"resultfae8dc7a\" title=\"/files/data/model/plots/1/feature-importances.html\">feature-importances</div><div class=\"artifact\" onclick=\"expandPanel(this)\" paneName=\"resultfae8dc7a\" title=\"/files/data/model/plots/1/precision-recall-binary.html\">precision-recall-binary</div><div class=\"artifact\" onclick=\"expandPanel(this)\" paneName=\"resultfae8dc7a\" title=\"/files/data/model/plots/1/roc-binary.html\">roc-binary</div><div title=\"/home/jovyan/data/model/1\">model</div><div class=\"artifact\" onclick=\"expandPanel(this)\" paneName=\"resultfae8dc7a\" title=\"/files/data/iteration_results.csv\">iteration_results</div></td>\n",
       "    </tr>\n",
       "  </tbody>\n",
       "</table>\n",
       "</div></div>\n",
       "  <div id=\"resultfae8dc7a-pane\" class=\"right-pane block hidden\">\n",
       "    <div class=\"pane-header\">\n",
       "      <span id=\"resultfae8dc7a-title\" class=\"pane-header-title\">Title</span>\n",
       "      <span onclick=\"closePanel(this)\" paneName=\"resultfae8dc7a\" class=\"close clickable\">&times;</span>\n",
       "    </div>\n",
       "    <iframe class=\"fileview\" id=\"resultfae8dc7a-body\"></iframe>\n",
       "  </div>\n",
       "</div>\n"
      ],
      "text/plain": [
       "<IPython.core.display.HTML object>"
      ]
     },
     "metadata": {},
     "output_type": "display_data"
    },
    {
     "name": "stdout",
     "output_type": "stream",
     "text": [
      "to track results use .show() or .logs() or in CLI: \n",
      "!mlrun get run 401151f69d754124bd3699e2e7592890 --project fsdemo-admin , !mlrun logs 401151f69d754124bd3699e2e7592890 --project fsdemo-admin\n",
      "> 2021-05-23 19:14:22,015 [info] run executed, status=completed\n"
     ]
    },
    {
     "data": {
      "image/png": "[encoded data removed]",
      "text/plain": [
       "<Figure size 432x288 with 1 Axes>"
      ]
     },
     "metadata": {
      "needs_background": "light"
     },
     "output_type": "display_data"
    },
    {
     "data": {
      "text/plain": [
       "<Figure size 432x288 with 0 Axes>"
      ]
     },
     "metadata": {},
     "output_type": "display_data"
    },
    {
     "data": {
      "image/png": "[encoded data removed]",
      "text/plain": [
       "<Figure size 432x288 with 1 Axes>"
      ]
     },
     "metadata": {
      "needs_background": "light"
     },
     "output_type": "display_data"
    },
    {
     "data": {
      "image/png": "[encoded data removed]",
      "text/plain": [
       "<Figure size 432x288 with 1 Axes>"
      ]
     },
     "metadata": {
      "needs_background": "light"
     },
     "output_type": "display_data"
    },
    {
     "data": {
      "image/png": "[encoded data removed]",
      "text/plain": [
       "<Figure size 432x288 with 1 Axes>"
      ]
     },
     "metadata": {
      "needs_background": "light"
     },
     "output_type": "display_data"
    },
    {
     "data": {
      "text/plain": [
       "<Figure size 432x288 with 0 Axes>"
      ]
     },
     "metadata": {},
     "output_type": "display_data"
    },
    {
     "data": {
      "image/png": "[encoded data removed]",
      "text/plain": [
       "<Figure size 432x288 with 1 Axes>"
      ]
     },
     "metadata": {
      "needs_background": "light"
     },
     "output_type": "display_data"
    },
    {
     "data": {
      "image/png": "[encoded data removed]",
      "text/plain": [
       "<Figure size 432x288 with 1 Axes>"
      ]
     },
     "metadata": {
      "needs_background": "light"
     },
     "output_type": "display_data"
    },
    {
     "data": {
      "image/png": "[encoded data removed]",
      "text/plain": [
       "<Figure size 432x288 with 1 Axes>"
      ]
     },
     "metadata": {
      "needs_background": "light"
     },
     "output_type": "display_data"
    },
    {
     "data": {
      "text/plain": [
       "<Figure size 432x288 with 0 Axes>"
      ]
     },
     "metadata": {},
     "output_type": "display_data"
    },
    {
     "data": {
      "image/png": "[encoded data removed]",
      "text/plain": [
       "<Figure size 432x288 with 1 Axes>"
      ]
     },
     "metadata": {
      "needs_background": "light"
     },
     "output_type": "display_data"
    },
    {
     "data": {
      "image/png": "[encoded data removed]",
      "text/plain": [
       "<Figure size 432x288 with 1 Axes>"
      ]
     },
     "metadata": {
      "needs_background": "light"
     },
     "output_type": "display_data"
    }
   ],
   "source": [
    "# Prepare the parameters list for the training function\n",
    "# We define 3 different models to test on our dataset\n",
    "model_list = {\"model_name\": ['patient_det_rf', 'patient_det_xgboost', 'patient_det_adaboost'],\n",
    "              \"model_pkg_class\": ['sklearn.ensemble.RandomForestClassifier',\n",
    "                                  'sklearn.ensemble.GradientBoostingClassifier',\n",
    "                                  'sklearn.ensemble.AdaBoostClassifier']}\n",
    "\n",
    "# Define the training task, including our feature vector, label and hyperparams definitions\n",
    "task = mlrun.new_task('training', \n",
    "                      inputs={'dataset': f'store://feature-vectors/{project}/{feature_vector_name}'},\n",
    "                      params={'label_column': 'label'}\n",
    "                     )\n",
    "task.with_hyper_params(model_list, strategy='list', selector='max.accuracy')\n",
    "\n",
    "# Run the function \n",
    "fn.spec.image = 'mlrun/ml-models'\n",
    "run = fn.run(task, local=True)"
   ]
  },
  {
   "cell_type": "markdown",
   "metadata": {},
   "source": [
    "**View the run outputs, including result metrics and artifacts**"
   ]
  },
  {
   "cell_type": "code",
   "execution_count": 10,
   "metadata": {},
   "outputs": [
    {
     "data": {
      "text/plain": [
       "{'best_iteration': 1,\n",
       " 'accuracy': 0.9919354838709677,\n",
       " 'test-error': 0.008064516129032258,\n",
       " 'rocauc': 1.0,\n",
       " 'brier_score': 0.0029604838709677422,\n",
       " 'f1-score': 0.0,\n",
       " 'precision_score': 0.0,\n",
       " 'recall_score': 0.0,\n",
       " 'test_set': 'store://artifacts/fsdemo-admin/training_test_set:401151f69d754124bd3699e2e7592890',\n",
       " 'probability-calibration': '/home/jovyan/data/model/plots/1/probability-calibration.html',\n",
       " 'confusion-matrix': '/home/jovyan/data/model/plots/1/confusion-matrix.html',\n",
       " 'feature-importances': '/home/jovyan/data/model/plots/1/feature-importances.html',\n",
       " 'precision-recall-binary': '/home/jovyan/data/model/plots/1/precision-recall-binary.html',\n",
       " 'roc-binary': '/home/jovyan/data/model/plots/1/roc-binary.html',\n",
       " 'model': 'store://artifacts/fsdemo-admin/training_model:401151f69d754124bd3699e2e7592890',\n",
       " 'iteration_results': '/home/jovyan/data/iteration_results.csv'}"
      ]
     },
     "execution_count": 10,
     "metadata": {},
     "output_type": "execute_result"
    }
   ],
   "source": [
    "run.outputs"
   ]
  },
  {
   "cell_type": "markdown",
   "metadata": {},
   "source": [
    "**View the training dataset status**"
   ]
  },
  {
   "cell_type": "code",
   "execution_count": 11,
   "metadata": {},
   "outputs": [
    {
     "data": {
      "text/plain": [
       "{'name': 'parquet',\n",
       " 'kind': 'parquet',\n",
       " 'path': 'v3io:///projects/fsdemo-admin/FeatureStore/patient-deterioration/parquet/vectors/patient-deterioration-latest.parquet',\n",
       " 'status': 'ready',\n",
       " 'updated': '2021-05-23T19:12:38.867021+00:00',\n",
       " 'size': 4293934}"
      ]
     },
     "execution_count": 11,
     "metadata": {},
     "output_type": "execute_result"
    }
   ],
   "source": [
    "fs.get_feature_vector(f'{project}/{feature_vector_name}').status.targets['parquet'].to_dict()"
   ]
  },
  {
   "cell_type": "markdown",
   "metadata": {},
   "source": [
    "## Done!\n",
    "\n",
    "You've completed the training process. Proceed to [Part 3](03-deploy-serving-model.ipynb) to deploy the model."
   ]
  }
 ],
 "metadata": {
  "kernelspec": {
   "display_name": "Python 3",
   "language": "python",
   "name": "python3"
  },
  "language_info": {
   "codemirror_mode": {
    "name": "ipython",
    "version": 3
   },
   "file_extension": ".py",
   "mimetype": "text/x-python",
   "name": "python",
   "nbconvert_exporter": "python",
   "pygments_lexer": "ipython3",
   "version": "3.8.8"
  }
 },
 "nbformat": 4,
 "nbformat_minor": 4
}
