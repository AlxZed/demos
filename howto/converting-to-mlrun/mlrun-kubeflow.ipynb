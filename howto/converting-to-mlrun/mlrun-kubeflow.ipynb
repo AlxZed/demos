{
 "cells": [
  {
   "cell_type": "markdown",
   "metadata": {},
   "source": [
    "# Kubeflow Pipeline\n",
    "\n",
    "If you have Kubeflow installed, you can create a Kubeflow pipeline using MLRun. Make sure to first run the [**mlrun-code notebook**](./mlrun-code.ipynb) to create the relevant MLRun functions created by the mlrun-code notebook. The code below will load the functions, create a workflow and execute it."
   ]
  },
  {
   "cell_type": "markdown",
   "metadata": {},
   "source": [
    "### Create Project Object"
   ]
  },
  {
   "cell_type": "code",
   "execution_count": 1,
   "metadata": {},
   "outputs": [],
   "source": [
    "project_name_base = 'nyc-taxi'"
   ]
  },
  {
   "cell_type": "code",
   "execution_count": 4,
   "metadata": {},
   "outputs": [
    {
     "data": {
      "text/plain": [
       "<mlrun.runtimes.serving.ServingRuntime at 0x7fad19d97850>"
      ]
     },
     "execution_count": 4,
     "metadata": {},
     "output_type": "execute_result"
    }
   ],
   "source": [
    "from os import path\n",
    "import mlrun\n",
    "project_path = path.abspath('conf')\n",
    "project = mlrun.new_project(project_name_base,\n",
    "                            context=project_path,\n",
    "                            init_git=True,\n",
    "                            user_project=True)\n",
    "\n",
    "project.set_function(f'db://{project.name}/taxi')\n",
    "project.set_function(f'db://{project.name}/model-serving')"
   ]
  },
  {
   "cell_type": "markdown",
   "metadata": {},
   "source": [
    "### Create the Workflow"
   ]
  },
  {
   "cell_type": "code",
   "execution_count": 5,
   "metadata": {},
   "outputs": [
    {
     "name": "stdout",
     "output_type": "stream",
     "text": [
      "Writing /User/hackathon/howto/converting-to-mlrun/conf/workflow.py\n"
     ]
    }
   ],
   "source": [
    "%%writefile {path.join(project_path, 'workflow.py')}\n",
    "from kfp import dsl\n",
    "from mlrun.platforms import auto_mount\n",
    "\n",
    "funcs = {}\n",
    "taxi_records_csv_path = 'https://s3.wasabisys.com/iguazio/data/Taxi/yellow_tripdata_2019-01_subset.csv'\n",
    "zones_csv_path = 'https://s3.wasabisys.com/iguazio/data/Taxi/taxi_zones.csv'\n",
    "\n",
    "# init functions is used to configure function resources and local settings\n",
    "def init_functions(functions: dict, project=None, secrets=None):\n",
    "    for f in functions.values():\n",
    "        f.apply(auto_mount())\n",
    "\n",
    "@dsl.pipeline(\n",
    "    name=\"NYC Taxi Demo\",\n",
    "    description=\"Convert ML script to MLRun\"\n",
    ")\n",
    "\n",
    "def kfpipeline():\n",
    "    \n",
    "    # build our ingestion function (container image)\n",
    "    builder = funcs['taxi'].deploy_step(skip_deployed=True)\n",
    "    \n",
    "    # run the ingestion function with the new image and params\n",
    "    ingest = funcs['taxi'].as_step(\n",
    "        name=\"fetch_data\",\n",
    "        handler='fetch_data',\n",
    "        image=builder.outputs['image'],\n",
    "        inputs={'taxi_records_csv_path': taxi_records_csv_path,\n",
    "                'zones_csv_path': zones_csv_path},\n",
    "        outputs=['nyc-taxi-dataset', 'zones-dataset'])\n",
    "\n",
    "    # Join and transform the data sets \n",
    "    transform = funcs[\"taxi\"].as_step(\n",
    "        name=\"transform_dataset\",\n",
    "        handler='transform_dataset',\n",
    "        inputs={\"taxi_records_csv_path\": ingest.outputs['nyc-taxi-dataset'],\n",
    "                \"zones_csv_path\" : ingest.outputs['zones-dataset']},\n",
    "        outputs=['nyc-taxi-dataset-transformed'])\n",
    "\n",
    "    # Train the model\n",
    "    train = funcs[\"taxi\"].as_step(\n",
    "        name=\"train\",\n",
    "        handler=\"train_model\",\n",
    "        inputs={\"input_ds\" : transform.outputs['nyc-taxi-dataset-transformed']},\n",
    "        outputs=['FareModel'])\n",
    "    \n",
    "    # Deploy the model\n",
    "    deploy = funcs[\"model-serving\"].deploy_step(models={\"taxi-serving_v1\": train.outputs['FareModel']}, tag='v2')"
   ]
  },
  {
   "cell_type": "code",
   "execution_count": 6,
   "metadata": {},
   "outputs": [],
   "source": [
    "project.set_workflow('main', 'workflow.py', embed=True)"
   ]
  },
  {
   "cell_type": "code",
   "execution_count": 7,
   "metadata": {},
   "outputs": [],
   "source": [
    "project.save()"
   ]
  },
  {
   "cell_type": "markdown",
   "metadata": {},
   "source": [
    "### Run the Workflow"
   ]
  },
  {
   "cell_type": "code",
   "execution_count": 8,
   "metadata": {},
   "outputs": [
    {
     "name": "stdout",
     "output_type": "stream",
     "text": [
      "> 2021-05-10 08:28:00,861 [info] using in-cluster config.\n"
     ]
    },
    {
     "data": {
      "text/html": [
       "Experiment link <a href=\"https://dashboard.default-tenant.app.gppzgecqrxkh.iguazio-cd2.com/pipelines/#/experiments/details/5bf751ca-1fd1-402f-b171-d12f990f87b4\" target=\"_blank\" >here</a>"
      ],
      "text/plain": [
       "<IPython.core.display.HTML object>"
      ]
     },
     "metadata": {},
     "output_type": "display_data"
    },
    {
     "data": {
      "text/html": [
       "Run link <a href=\"https://dashboard.default-tenant.app.gppzgecqrxkh.iguazio-cd2.com/pipelines/#/runs/details/23c8bfa3-c82e-4b33-8f85-8746dd23a144\" target=\"_blank\" >here</a>"
      ],
      "text/plain": [
       "<IPython.core.display.HTML object>"
      ]
     },
     "metadata": {},
     "output_type": "display_data"
    },
    {
     "name": "stdout",
     "output_type": "stream",
     "text": [
      "> 2021-05-10 08:28:01,344 [info] Pipeline run id=23c8bfa3-c82e-4b33-8f85-8746dd23a144, check UI or DB for progress\n",
      "> 2021-05-10 08:28:01,344 [info] waiting for pipeline run completion\n"
     ]
    },
    {
     "data": {
      "text/html": [
       "<h2>Run Results</h2>Workflow 23c8bfa3-c82e-4b33-8f85-8746dd23a144 finished, status=Succeeded<br>click the hyper links below to see detailed results<br><table border=\"1\" class=\"dataframe\">\n",
       "  <thead>\n",
       "    <tr style=\"text-align: right;\">\n",
       "      <th>uid</th>\n",
       "      <th>start</th>\n",
       "      <th>state</th>\n",
       "      <th>name</th>\n",
       "      <th>results</th>\n",
       "      <th>artifacts</th>\n",
       "    </tr>\n",
       "  </thead>\n",
       "  <tbody>\n",
       "    <tr>\n",
       "      <td><div title=\"ef3ac7c3b95e412cbbcc7dadbf76fcec\"><a href=\"https://dashboard.default-tenant.app.gppzgecqrxkh.iguazio-cd2.com/mlprojects/nyc-taxi-admin/jobs/monitor/ef3ac7c3b95e412cbbcc7dadbf76fcec/overview\" target=\"_blank\" >...bf76fcec</a></div></td>\n",
       "      <td>May 10 08:30:17</td>\n",
       "      <td>completed</td>\n",
       "      <td>train</td>\n",
       "      <td></td>\n",
       "      <td><div title=\"/User/hackathon/howto/converting-to-mlrun/pipe/23c8bfa3-c82e-4b33-8f85-8746dd23a144/models\">FareModel</div></td>\n",
       "    </tr>\n",
       "    <tr>\n",
       "      <td><div title=\"9996197eb8e04e69a7b574c1dba48239\"><a href=\"https://dashboard.default-tenant.app.gppzgecqrxkh.iguazio-cd2.com/mlprojects/nyc-taxi-admin/jobs/monitor/9996197eb8e04e69a7b574c1dba48239/overview\" target=\"_blank\" >...dba48239</a></div></td>\n",
       "      <td>May 10 08:28:55</td>\n",
       "      <td>completed</td>\n",
       "      <td>transform_dataset</td>\n",
       "      <td></td>\n",
       "      <td><div class=\"artifact\" onclick=\"expandPanel(this)\" paneName=\"result\" title=\"/files/hackathon/howto/converting-to-mlrun/pipe/23c8bfa3-c82e-4b33-8f85-8746dd23a144/data/nyc-taxi-dataset-transformed.csv\">nyc-taxi-dataset-transformed</div></td>\n",
       "    </tr>\n",
       "    <tr>\n",
       "      <td><div title=\"08c7670c4e4a46d9ac6f7895c2d80e3c\"><a href=\"https://dashboard.default-tenant.app.gppzgecqrxkh.iguazio-cd2.com/mlprojects/nyc-taxi-admin/jobs/monitor/08c7670c4e4a46d9ac6f7895c2d80e3c/overview\" target=\"_blank\" >...c2d80e3c</a></div></td>\n",
       "      <td>May 10 08:28:18</td>\n",
       "      <td>completed</td>\n",
       "      <td>fetch_data</td>\n",
       "      <td></td>\n",
       "      <td><div class=\"artifact\" onclick=\"expandPanel(this)\" paneName=\"result\" title=\"/files/hackathon/howto/converting-to-mlrun/pipe/23c8bfa3-c82e-4b33-8f85-8746dd23a144/data/nyc-taxi-dataset.csv\">nyc-taxi-dataset</div><div class=\"artifact\" onclick=\"expandPanel(this)\" paneName=\"result\" title=\"/files/hackathon/howto/converting-to-mlrun/pipe/23c8bfa3-c82e-4b33-8f85-8746dd23a144/data/zones-dataset.csv\">zones-dataset</div></td>\n",
       "    </tr>\n",
       "  </tbody>\n",
       "</table>"
      ],
      "text/plain": [
       "<IPython.core.display.HTML object>"
      ]
     },
     "metadata": {},
     "output_type": "display_data"
    }
   ],
   "source": [
    "artifact_path = path.abspath('./pipe/{{workflow.uid}}')\n",
    "run_id = project.run(\n",
    "    'main',\n",
    "    arguments={}, \n",
    "    artifact_path=artifact_path, \n",
    "    dirty=True,\n",
    "    watch=True)"
   ]
  }
 ],
 "metadata": {
  "kernelspec": {
   "display_name": "Python 3",
   "language": "python",
   "name": "python3"
  },
  "language_info": {
   "codemirror_mode": {
    "name": "ipython",
    "version": 3
   },
   "file_extension": ".py",
   "mimetype": "text/x-python",
   "name": "python",
   "nbconvert_exporter": "python",
   "pygments_lexer": "ipython3",
   "version": "3.7.6"
  }
 },
 "nbformat": 4,
 "nbformat_minor": 4
}
